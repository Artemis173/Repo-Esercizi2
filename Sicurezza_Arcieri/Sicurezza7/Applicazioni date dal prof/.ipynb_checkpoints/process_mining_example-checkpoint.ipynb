{
 "cells": [
  {
   "cell_type": "code",
   "execution_count": 1,
   "metadata": {},
   "outputs": [
    {
     "ename": "NameError",
     "evalue": "name 'df' is not defined",
     "output_type": "error",
     "traceback": [
      "\u001b[0;31m---------------------------------------------------------------------------\u001b[0m",
      "\u001b[0;31mNameError\u001b[0m                                 Traceback (most recent call last)",
      "Cell \u001b[0;32mIn[1], line 3\u001b[0m\n\u001b[1;32m      1\u001b[0m \u001b[38;5;66;03m# 2) (opzionale) Ordina per timestamp\u001b[39;00m\n\u001b[0;32m----> 3\u001b[0m df \u001b[38;5;241m=\u001b[39m \u001b[43mdf\u001b[49m\u001b[38;5;241m.\u001b[39msort_values(\u001b[38;5;124m'\u001b[39m\u001b[38;5;124mtimestamp\u001b[39m\u001b[38;5;124m'\u001b[39m)\n\u001b[1;32m      5\u001b[0m df \u001b[38;5;241m=\u001b[39m df\u001b[38;5;241m.\u001b[39mrename(columns\u001b[38;5;241m=\u001b[39m{\n\u001b[1;32m      6\u001b[0m     \u001b[38;5;124m\"\u001b[39m\u001b[38;5;124mcase_id\u001b[39m\u001b[38;5;124m\"\u001b[39m: \u001b[38;5;124m\"\u001b[39m\u001b[38;5;124mcase:concept:name\u001b[39m\u001b[38;5;124m\"\u001b[39m,\n\u001b[1;32m      7\u001b[0m     \u001b[38;5;124m\"\u001b[39m\u001b[38;5;124mactivity\u001b[39m\u001b[38;5;124m\"\u001b[39m: \u001b[38;5;124m\"\u001b[39m\u001b[38;5;124mconcept:name\u001b[39m\u001b[38;5;124m\"\u001b[39m,\n\u001b[1;32m      8\u001b[0m     \u001b[38;5;124m\"\u001b[39m\u001b[38;5;124mtimestamp\u001b[39m\u001b[38;5;124m\"\u001b[39m: \u001b[38;5;124m\"\u001b[39m\u001b[38;5;124mtime:timestamp\u001b[39m\u001b[38;5;124m\"\u001b[39m\n\u001b[1;32m      9\u001b[0m })\n\u001b[1;32m     11\u001b[0m log \u001b[38;5;241m=\u001b[39m log_converter\u001b[38;5;241m.\u001b[39mapply(df, variant\u001b[38;5;241m=\u001b[39mlog_converter\u001b[38;5;241m.\u001b[39mVariants\u001b[38;5;241m.\u001b[39mTO_EVENT_LOG)\n",
      "\u001b[0;31mNameError\u001b[0m: name 'df' is not defined"
     ]
    }
   ],
   "source": [
    "# process_mining_example.ipynb\n",
    "\n",
    "# Esempio d'uso di pm4py per analizzare un log fittizio\n",
    "\n",
    "%pip install pm4py\n",
    "# pandas\n",
    "\n",
    "import pandas as pd\n",
    "from pm4py.objects.log.importer.xes import importer as xes_importer\n",
    "from pm4py.algo.discovery.alpha import algorithm as alpha_miner\n",
    "from pm4py.visualization.petri_net import visualizer as pn_visualizer\n",
    "\n",
    "# Se hai un file in formato XES\n",
    "# log = xes_importer.apply('log_file.xes')\n",
    "\n",
    "# Se hai un CSV da convertire in XES o log object:\n",
    "df = pd.read_csv('log_process_mining.csv')  # file fittizio con campi: case_id, activity, timestamp\n",
    "\n",
    "from pm4py.objects.log.util import dataframe_utils\n",
    "from pm4py.objects.conversion.log import converter as log_converter\n",
    "\n",
    "# 1) Converti eventuali colonne di timestamp in datetime\n",
    "df = dataframe_utils.convert_timestamp_columns_in_df(df)\n",
    "\n",
    "# 2) (opzionale) Ordina per timestamp\n",
    "\n",
    "df = df.sort_values('timestamp')\n",
    "\n",
    "df = df.rename(columns={\n",
    "    \"case_id\": \"case:concept:name\",\n",
    "    \"activity\": \"concept:name\",\n",
    "    \"timestamp\": \"time:timestamp\"\n",
    "})\n",
    "\n",
    "log = log_converter.apply(df, variant=log_converter.Variants.TO_EVENT_LOG)\n",
    "\n",
    "# 3) Specifica i parametri corretti: cambia i nomi a seconda delle tue colonne\n",
    "log = log_converter.apply(df, variant=log_converter.Variants.TO_EVENT_LOG)\n",
    "\n",
    "\n",
    "# Applichiamo l'Alpha miner\n",
    "net, initial_marking, final_marking = alpha_miner.apply(log)\n",
    "\n",
    "# Visualizzazione\n",
    "gviz = pn_visualizer.apply(net, initial_marking, final_marking)\n",
    "pn_visualizer.view(gviz)\n",
    "\n",
    "print(\"Analisi process mining completata!\")\n"
   ]
  },
  {
   "cell_type": "code",
   "execution_count": null,
   "metadata": {},
   "outputs": [],
   "source": []
  }
 ],
 "metadata": {
  "kernelspec": {
   "display_name": "Python 3 (ipykernel)",
   "language": "python",
   "name": "python3"
  },
  "language_info": {
   "codemirror_mode": {
    "name": "ipython",
    "version": 3
   },
   "file_extension": ".py",
   "mimetype": "text/x-python",
   "name": "python",
   "nbconvert_exporter": "python",
   "pygments_lexer": "ipython3",
   "version": "3.10.12"
  }
 },
 "nbformat": 4,
 "nbformat_minor": 4
}
